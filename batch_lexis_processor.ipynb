{
 "cells": [
  {
   "cell_type": "markdown",
   "source": [
    "### About:\n",
    "Python script to read MS WORD (.DOCX) files (downloaded from LexisNexis) and extract articles with their headings and output as .CSV files. Each cell has some comments to help user understand the functionality.\n",
    "\n",
    "### Requirements:\n",
    "- **Folder Path** MS WORD documents should be in a folder, and you have to specify the path of that folder as value for the `folder_path` variable in next cell. Your folder may contain sub-folders containing many files recursively. The script will handle this.\n",
    "\n",
    "- **File Names** Make sure each MS_WORD.DOCX file is named properly like this format: `Files (1-100).DOCX`\n",
    "This is mandatory as the script will parse the values specified in parentheses to skip some pages in the file which are not required. Also, not all files contain 100 articles, some contains, e.g., 36 articles, then the name of that file will be `Files (1-36).DOCX`.\n",
    "\n",
    "- **Errors** In case you will see errors while running the script, you will see the name of last file processed which caused error. It could be because your file is not named properly, e.g., if it is missing a parenthesis like `Files (1-36.DOCX`, or it has only one value in the parenthesis like `Files (100).DOCX`. You will have to correct these kind of issues yourself and then rerun the script.\n",
    "\n",
    "- **Output** The script wil output files in CSV format in the same directory with the same name as of file. For example, when processing `Files (1-36).DOCX` file, it will output `Files (1-36).DOCX.csv` file in the same directory. Output CSV file contains two columns, where first column is heading and second column is text of the article. You can change the values of both these columns in the code below.\n",
    "\n",
    "**Note:** This work is done as part of Sana Rabbani's Master Thesis at CUI."
   ],
   "metadata": {
    "collapsed": false
   }
  },
  {
   "cell_type": "code",
   "execution_count": 15,
   "outputs": [],
   "source": [
    "#import libraries\n",
    "import docx2python\n",
    "from os import listdir\n",
    "import csv\n",
    "from os.path import isfile, join, isdir\n"
   ],
   "metadata": {
    "collapsed": false
   }
  },
  {
   "cell_type": "code",
   "execution_count": 16,
   "outputs": [],
   "source": [
    "# Specify folder path\n",
    "folder_path = \"Air Pollution Data\"\n",
    "\n",
    "# array initialization\n",
    "file_paths = []\n",
    "\n",
    "# specify the extension of MS WORD files. Default value is .DOCX.\n",
    "file_extension = \".DOCX\"\n",
    "\n",
    "# specify the header values of CSV files, default values are headline and body for first and 2nd column.\n",
    "header = ['headline', 'body']"
   ],
   "metadata": {
    "collapsed": false
   }
  },
  {
   "cell_type": "code",
   "execution_count": 17,
   "outputs": [],
   "source": [
    "def read_files_from_dir(path):\n",
    "    files = get_files(path)\n",
    "    # print(files)\n",
    "    for file_path in files:\n",
    "        file_name = file_path.split(\"/\")[-1]\n",
    "        limits = file_name[file_name.find(\"(\") + 1:file_name.find(\")\")]\n",
    "        index_to_start_from = limits.split(\"-\")[1]\n",
    "        print(\"Processing file: \" + file_path)\n",
    "        remainder = int(index_to_start_from) % 100\n",
    "        if remainder == 0:\n",
    "            # print(index_to_start_from)\n",
    "            init_reader_writer(file_path, 200)\n",
    "        else:\n",
    "            index_to_start_from = remainder\n",
    "            # print(index_to_start_from)\n",
    "            init_reader_writer(file_path, int(index_to_start_from) * 2)\n",
    "\n",
    "def get_files(path):\n",
    "    for f in listdir(path):\n",
    "        if isfile(join(path, f)):\n",
    "            # print(\"file \" + join(path, f))\n",
    "            if f.endswith(file_extension):\n",
    "                file_paths.append(join(path, f))\n",
    "\n",
    "        if isdir(join(path, f)):\n",
    "            # print(\"dir \" +  join(directory, f))\n",
    "            get_files(join(path, f))\n",
    "    return file_paths"
   ],
   "metadata": {
    "collapsed": false
   }
  },
  {
   "cell_type": "markdown",
   "source": [
    "Following three methods will parse the content of each file and output csv files."
   ],
   "metadata": {
    "collapsed": false
   }
  },
  {
   "cell_type": "code",
   "execution_count": 18,
   "outputs": [],
   "source": [
    "def init_reader_writer(file_path, index_to_start_from):\n",
    "    # open the file in the write mode\n",
    "    f = open(file_path + \".csv\", 'w')\n",
    "    # create the csv writer\n",
    "    writer = csv.writer(f)\n",
    "    # write a row to the csv file\n",
    "    writer.writerow(header)\n",
    "    read_word_file(file_path, writer, index_to_start_from)\n",
    "    # close the file\n",
    "    f.close()\n",
    "\n",
    "def read_word_file(address, writer, index_to_start_from):\n",
    "    raw_document = docx2python.docx2python(address)\n",
    "    content = raw_document.body_runs\n",
    "    parse_content(content[index_to_start_from][0][0], writer)\n",
    "\n",
    "def parse_content(content, writer):\n",
    "    row = []\n",
    "    for counter in range(0, len(content)):\n",
    "        if len(content[counter]) > 0:\n",
    "            if \"<a href=\\\"http\" in content[counter][0]:\n",
    "                title = content[counter][0]\n",
    "                title = (title.split(\">\")[1].split(\"<\"))[0]\n",
    "                row.append(title)\n",
    "\n",
    "            if content[counter][0] == 'Body':\n",
    "                # get content now\n",
    "                local_counter = counter + 1\n",
    "                body_content_indices = []\n",
    "\n",
    "                while len(content[local_counter]) == 0:\n",
    "                    local_counter += 1\n",
    "\n",
    "                while \"\\nLoad-Date\" not in content[local_counter][0]:\n",
    "                    if len(content[local_counter]) > 0:\n",
    "                        body_content_indices.append(local_counter)\n",
    "                    local_counter += 1\n",
    "                    while len(content[local_counter]) == 0:\n",
    "                        local_counter += 1\n",
    "                text = \"\"\n",
    "                for para in body_content_indices:\n",
    "                    for element in content[para]:\n",
    "                        text = join(text, element)\n",
    "                row.append(text)\n",
    "                writer.writerow(row)\n",
    "                row = []"
   ],
   "metadata": {
    "collapsed": false
   }
  },
  {
   "cell_type": "code",
   "execution_count": 19,
   "outputs": [
    {
     "name": "stdout",
     "output_type": "stream",
     "text": [
      "['Air Pollution Data/India/Hindustan Times/JAN2020-DEC2022/Files (401-446).DOCX', 'Air Pollution Data/India/Hindustan Times/JAN2020-DEC2022/Files (101-200).DOCX', 'Air Pollution Data/India/Hindustan Times/JAN2020-DEC2022/Files (201-300).DOCX', 'Air Pollution Data/India/Hindustan Times/JAN2020-DEC2022/Files (1-100).DOCX', 'Air Pollution Data/India/Hindustan Times/JAN2020-DEC2022/Files (301-400).DOCX', 'Air Pollution Data/India/Hindustan Times/JAN2017-DEC2019/Files (401-500).DOCX', 'Air Pollution Data/India/Hindustan Times/JAN2017-DEC2019/Files (801-809).DOCX', 'Air Pollution Data/India/Hindustan Times/JAN2017-DEC2019/Files (701-800).DOCX', 'Air Pollution Data/India/Hindustan Times/JAN2017-DEC2019/Files (601-700).DOCX', 'Air Pollution Data/India/Hindustan Times/JAN2017-DEC2019/Files (101-200).DOCX', 'Air Pollution Data/India/Hindustan Times/JAN2017-DEC2019/Files (201-300).DOCX', 'Air Pollution Data/India/Hindustan Times/JAN2017-DEC2019/Files (501-600).DOCX', 'Air Pollution Data/India/Hindustan Times/JAN2017-DEC2019/Files (1-100).DOCX', 'Air Pollution Data/India/Hindustan Times/JAN2017-DEC2019/Files (301-400).DOCX', 'Air Pollution Data/India/Hindustan Times/JAN2005-DEC2016/Files (801-831).DOCX', 'Air Pollution Data/India/Hindustan Times/JAN2005-DEC2016/Files (401-500).DOCX', 'Air Pollution Data/India/Hindustan Times/JAN2005-DEC2016/Files (701-800).DOCX', 'Air Pollution Data/India/Hindustan Times/JAN2005-DEC2016/Files (601-700).DOCX', 'Air Pollution Data/India/Hindustan Times/JAN2005-DEC2016/Files (101-200).DOCX', 'Air Pollution Data/India/Hindustan Times/JAN2005-DEC2016/Files (201-300).DOCX', 'Air Pollution Data/India/Hindustan Times/JAN2005-DEC2016/Files (501-600).DOCX', 'Air Pollution Data/India/Hindustan Times/JAN2005-DEC2016/Files (1-100).DOCX', 'Air Pollution Data/India/Hindustan Times/JAN2005-DEC2016/Files (301-400).DOCX', 'Air Pollution Data/India/The Times of India (TOI)/JAN 2016-DEC 2018/Files (401-500).DOCX', 'Air Pollution Data/India/The Times of India (TOI)/JAN 2016-DEC 2018/Files (701-800).DOCX', 'Air Pollution Data/India/The Times of India (TOI)/JAN 2016-DEC 2018/Files (601-700).DOCX', 'Air Pollution Data/India/The Times of India (TOI)/JAN 2016-DEC 2018/Files (101-200).DOCX', 'Air Pollution Data/India/The Times of India (TOI)/JAN 2016-DEC 2018/Files (201-300).DOCX', 'Air Pollution Data/India/The Times of India (TOI)/JAN 2016-DEC 2018/Files (501-600).DOCX', 'Air Pollution Data/India/The Times of India (TOI)/JAN 2016-DEC 2018/Files (1-100).DOCX', 'Air Pollution Data/India/The Times of India (TOI)/JAN 2016-DEC 2018/Files (901-975).DOCX', 'Air Pollution Data/India/The Times of India (TOI)/JAN 2016-DEC 2018/Files (301-400).DOCX', 'Air Pollution Data/India/The Times of India (TOI)/JAN 2016-DEC 2018/Files (801-900).DOCX', 'Air Pollution Data/India/The Times of India (TOI)/JAN 2005-DEC2016 (1-1000)/Files (901-1000).DOCX', 'Air Pollution Data/India/The Times of India (TOI)/JAN 2005-DEC2016 (1-1000)/Files (401-500).DOCX', 'Air Pollution Data/India/The Times of India (TOI)/JAN 2005-DEC2016 (1-1000)/Files (701-800).DOCX', 'Air Pollution Data/India/The Times of India (TOI)/JAN 2005-DEC2016 (1-1000)/Files (601-700).DOCX', 'Air Pollution Data/India/The Times of India (TOI)/JAN 2005-DEC2016 (1-1000)/Files (101-200).DOCX', 'Air Pollution Data/India/The Times of India (TOI)/JAN 2005-DEC2016 (1-1000)/Files (201-300).DOCX', 'Air Pollution Data/India/The Times of India (TOI)/JAN 2005-DEC2016 (1-1000)/Files (501-600).DOCX', 'Air Pollution Data/India/The Times of India (TOI)/JAN 2005-DEC2016 (1-1000)/Files (1-100).DOCX', 'Air Pollution Data/India/The Times of India (TOI)/JAN 2005-DEC2016 (1-1000)/Files (301-400).DOCX', 'Air Pollution Data/India/The Times of India (TOI)/JAN 2005-DEC2016 (1-1000)/Files (801-900).DOCX', 'Air Pollution Data/India/The Times of India (TOI)/JAN2019-DEC31ST 2022/Files (801-811).DOCX', 'Air Pollution Data/India/The Times of India (TOI)/JAN2019-DEC31ST 2022/Files (401-500).DOCX', 'Air Pollution Data/India/The Times of India (TOI)/JAN2019-DEC31ST 2022/Files (701-800).DOCX', 'Air Pollution Data/India/The Times of India (TOI)/JAN2019-DEC31ST 2022/Files (601-700).DOCX', 'Air Pollution Data/India/The Times of India (TOI)/JAN2019-DEC31ST 2022/Files (101-200).DOCX', 'Air Pollution Data/India/The Times of India (TOI)/JAN2019-DEC31ST 2022/Files (201-300).DOCX', 'Air Pollution Data/India/The Times of India (TOI)/JAN2019-DEC31ST 2022/Files (501-600).DOCX', 'Air Pollution Data/India/The Times of India (TOI)/JAN2019-DEC31ST 2022/Files (1-100).DOCX', 'Air Pollution Data/India/The Times of India (TOI)/JAN2019-DEC31ST 2022/Files (301-400).DOCX', 'Air Pollution Data/Bangladesh/The News Today (Bangladesh) (59 results)/Files (1-59).DOCX', 'Air Pollution Data/Bangladesh/The New Nation (Bangladesh) 177 RESULTS/Files (101-177).DOCX', 'Air Pollution Data/Bangladesh/The New Nation (Bangladesh) 177 RESULTS/Files (1-100).DOCX', 'Air Pollution Data/Bangladesh/The Financial Express (106 RESULTS)/Files (101-106).DOCX', 'Air Pollution Data/Bangladesh/The Financial Express (106 RESULTS)/Files (1-100).DOCX', 'Air Pollution Data/Pakistan/The Nation (260 results)/Files (201-260).DOCX', 'Air Pollution Data/Pakistan/The Nation (260 results)/Files (100-200).DOCX', 'Air Pollution Data/Pakistan/The Nation (260 results)/Files (1-100).DOCX', 'Air Pollution Data/Pakistan/dawn (236 results)/Files (200-236).DOCX', 'Air Pollution Data/Pakistan/dawn (236 results)/Files (100-200).DOCX', 'Air Pollution Data/Pakistan/dawn (236 results)/Files (1-100).DOCX', 'Air Pollution Data/Pakistan/Right Vision News (459 results)/Files (401-459).DOCX', 'Air Pollution Data/Pakistan/Right Vision News (459 results)/Files (101-200).DOCX', 'Air Pollution Data/Pakistan/Right Vision News (459 results)/Files (201-300).DOCX', 'Air Pollution Data/Pakistan/Right Vision News (459 results)/Files (1-100).DOCX', 'Air Pollution Data/Pakistan/Right Vision News (459 results)/Files (301-400).DOCX', 'Air Pollution Data/Pakistan/The news International (282 results)/Files (201-282).DOCX', 'Air Pollution Data/Pakistan/The news International (282 results)/Files (101-200).DOCX', 'Air Pollution Data/Pakistan/The news International (282 results)/Files (1-100).DOCX']\n",
      "Processing Air Pollution Data/India/Hindustan Times/JAN2020-DEC2022/Files (401-446).DOCX\n",
      "Processing Air Pollution Data/India/Hindustan Times/JAN2020-DEC2022/Files (101-200).DOCX\n",
      "Processing Air Pollution Data/India/Hindustan Times/JAN2020-DEC2022/Files (201-300).DOCX\n",
      "Processing Air Pollution Data/India/Hindustan Times/JAN2020-DEC2022/Files (1-100).DOCX\n",
      "Processing Air Pollution Data/India/Hindustan Times/JAN2020-DEC2022/Files (301-400).DOCX\n",
      "Processing Air Pollution Data/India/Hindustan Times/JAN2017-DEC2019/Files (401-500).DOCX\n",
      "Processing Air Pollution Data/India/Hindustan Times/JAN2017-DEC2019/Files (801-809).DOCX\n",
      "Processing Air Pollution Data/India/Hindustan Times/JAN2017-DEC2019/Files (701-800).DOCX\n",
      "Processing Air Pollution Data/India/Hindustan Times/JAN2017-DEC2019/Files (601-700).DOCX\n",
      "Processing Air Pollution Data/India/Hindustan Times/JAN2017-DEC2019/Files (101-200).DOCX\n",
      "Processing Air Pollution Data/India/Hindustan Times/JAN2017-DEC2019/Files (201-300).DOCX\n",
      "Processing Air Pollution Data/India/Hindustan Times/JAN2017-DEC2019/Files (501-600).DOCX\n",
      "Processing Air Pollution Data/India/Hindustan Times/JAN2017-DEC2019/Files (1-100).DOCX\n",
      "Processing Air Pollution Data/India/Hindustan Times/JAN2017-DEC2019/Files (301-400).DOCX\n",
      "Processing Air Pollution Data/India/Hindustan Times/JAN2005-DEC2016/Files (801-831).DOCX\n",
      "Processing Air Pollution Data/India/Hindustan Times/JAN2005-DEC2016/Files (401-500).DOCX\n",
      "Processing Air Pollution Data/India/Hindustan Times/JAN2005-DEC2016/Files (701-800).DOCX\n",
      "Processing Air Pollution Data/India/Hindustan Times/JAN2005-DEC2016/Files (601-700).DOCX\n",
      "Processing Air Pollution Data/India/Hindustan Times/JAN2005-DEC2016/Files (101-200).DOCX\n",
      "Processing Air Pollution Data/India/Hindustan Times/JAN2005-DEC2016/Files (201-300).DOCX\n",
      "Processing Air Pollution Data/India/Hindustan Times/JAN2005-DEC2016/Files (501-600).DOCX\n",
      "Processing Air Pollution Data/India/Hindustan Times/JAN2005-DEC2016/Files (1-100).DOCX\n",
      "Processing Air Pollution Data/India/Hindustan Times/JAN2005-DEC2016/Files (301-400).DOCX\n",
      "Processing Air Pollution Data/India/The Times of India (TOI)/JAN 2016-DEC 2018/Files (401-500).DOCX\n",
      "Processing Air Pollution Data/India/The Times of India (TOI)/JAN 2016-DEC 2018/Files (701-800).DOCX\n",
      "Processing Air Pollution Data/India/The Times of India (TOI)/JAN 2016-DEC 2018/Files (601-700).DOCX\n",
      "Processing Air Pollution Data/India/The Times of India (TOI)/JAN 2016-DEC 2018/Files (101-200).DOCX\n",
      "Processing Air Pollution Data/India/The Times of India (TOI)/JAN 2016-DEC 2018/Files (201-300).DOCX\n",
      "Processing Air Pollution Data/India/The Times of India (TOI)/JAN 2016-DEC 2018/Files (501-600).DOCX\n",
      "Processing Air Pollution Data/India/The Times of India (TOI)/JAN 2016-DEC 2018/Files (1-100).DOCX\n",
      "Processing Air Pollution Data/India/The Times of India (TOI)/JAN 2016-DEC 2018/Files (901-975).DOCX\n",
      "Processing Air Pollution Data/India/The Times of India (TOI)/JAN 2016-DEC 2018/Files (301-400).DOCX\n",
      "Processing Air Pollution Data/India/The Times of India (TOI)/JAN 2016-DEC 2018/Files (801-900).DOCX\n",
      "Processing Air Pollution Data/India/The Times of India (TOI)/JAN 2005-DEC2016 (1-1000)/Files (901-1000).DOCX\n",
      "Processing Air Pollution Data/India/The Times of India (TOI)/JAN 2005-DEC2016 (1-1000)/Files (401-500).DOCX\n",
      "Processing Air Pollution Data/India/The Times of India (TOI)/JAN 2005-DEC2016 (1-1000)/Files (701-800).DOCX\n",
      "Processing Air Pollution Data/India/The Times of India (TOI)/JAN 2005-DEC2016 (1-1000)/Files (601-700).DOCX\n",
      "Processing Air Pollution Data/India/The Times of India (TOI)/JAN 2005-DEC2016 (1-1000)/Files (101-200).DOCX\n",
      "Processing Air Pollution Data/India/The Times of India (TOI)/JAN 2005-DEC2016 (1-1000)/Files (201-300).DOCX\n",
      "Processing Air Pollution Data/India/The Times of India (TOI)/JAN 2005-DEC2016 (1-1000)/Files (501-600).DOCX\n",
      "Processing Air Pollution Data/India/The Times of India (TOI)/JAN 2005-DEC2016 (1-1000)/Files (1-100).DOCX\n",
      "Processing Air Pollution Data/India/The Times of India (TOI)/JAN 2005-DEC2016 (1-1000)/Files (301-400).DOCX\n",
      "Processing Air Pollution Data/India/The Times of India (TOI)/JAN 2005-DEC2016 (1-1000)/Files (801-900).DOCX\n",
      "Processing Air Pollution Data/India/The Times of India (TOI)/JAN2019-DEC31ST 2022/Files (801-811).DOCX\n",
      "Processing Air Pollution Data/India/The Times of India (TOI)/JAN2019-DEC31ST 2022/Files (401-500).DOCX\n",
      "Processing Air Pollution Data/India/The Times of India (TOI)/JAN2019-DEC31ST 2022/Files (701-800).DOCX\n",
      "Processing Air Pollution Data/India/The Times of India (TOI)/JAN2019-DEC31ST 2022/Files (601-700).DOCX\n",
      "Processing Air Pollution Data/India/The Times of India (TOI)/JAN2019-DEC31ST 2022/Files (101-200).DOCX\n",
      "Processing Air Pollution Data/India/The Times of India (TOI)/JAN2019-DEC31ST 2022/Files (201-300).DOCX\n",
      "Processing Air Pollution Data/India/The Times of India (TOI)/JAN2019-DEC31ST 2022/Files (501-600).DOCX\n",
      "Processing Air Pollution Data/India/The Times of India (TOI)/JAN2019-DEC31ST 2022/Files (1-100).DOCX\n",
      "Processing Air Pollution Data/India/The Times of India (TOI)/JAN2019-DEC31ST 2022/Files (301-400).DOCX\n",
      "Processing Air Pollution Data/Bangladesh/The News Today (Bangladesh) (59 results)/Files (1-59).DOCX\n",
      "Processing Air Pollution Data/Bangladesh/The New Nation (Bangladesh) 177 RESULTS/Files (101-177).DOCX\n",
      "Processing Air Pollution Data/Bangladesh/The New Nation (Bangladesh) 177 RESULTS/Files (1-100).DOCX\n",
      "Processing Air Pollution Data/Bangladesh/The Financial Express (106 RESULTS)/Files (101-106).DOCX\n",
      "Processing Air Pollution Data/Bangladesh/The Financial Express (106 RESULTS)/Files (1-100).DOCX\n",
      "Processing Air Pollution Data/Pakistan/The Nation (260 results)/Files (201-260).DOCX\n",
      "Processing Air Pollution Data/Pakistan/The Nation (260 results)/Files (100-200).DOCX\n",
      "Processing Air Pollution Data/Pakistan/The Nation (260 results)/Files (1-100).DOCX\n",
      "Processing Air Pollution Data/Pakistan/dawn (236 results)/Files (200-236).DOCX\n",
      "Processing Air Pollution Data/Pakistan/dawn (236 results)/Files (100-200).DOCX\n",
      "Processing Air Pollution Data/Pakistan/dawn (236 results)/Files (1-100).DOCX\n",
      "Processing Air Pollution Data/Pakistan/Right Vision News (459 results)/Files (401-459).DOCX\n",
      "Processing Air Pollution Data/Pakistan/Right Vision News (459 results)/Files (101-200).DOCX\n",
      "Processing Air Pollution Data/Pakistan/Right Vision News (459 results)/Files (201-300).DOCX\n",
      "Processing Air Pollution Data/Pakistan/Right Vision News (459 results)/Files (1-100).DOCX\n",
      "Processing Air Pollution Data/Pakistan/Right Vision News (459 results)/Files (301-400).DOCX\n",
      "Processing Air Pollution Data/Pakistan/The news International (282 results)/Files (201-282).DOCX\n",
      "Processing Air Pollution Data/Pakistan/The news International (282 results)/Files (101-200).DOCX\n",
      "Processing Air Pollution Data/Pakistan/The news International (282 results)/Files (1-100).DOCX\n"
     ]
    }
   ],
   "source": [
    "# method call to start extraction\n",
    "read_files_from_dir(folder_path)"
   ],
   "metadata": {
    "collapsed": false
   }
  }
 ],
 "metadata": {
  "kernelspec": {
   "display_name": "Python 3",
   "language": "python",
   "name": "python3"
  },
  "language_info": {
   "codemirror_mode": {
    "name": "ipython",
    "version": 2
   },
   "file_extension": ".py",
   "mimetype": "text/x-python",
   "name": "python",
   "nbconvert_exporter": "python",
   "pygments_lexer": "ipython2",
   "version": "2.7.6"
  }
 },
 "nbformat": 4,
 "nbformat_minor": 0
}
